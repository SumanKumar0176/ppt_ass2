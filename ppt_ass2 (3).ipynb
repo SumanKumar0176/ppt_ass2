{
 "cells": [
  {
   "cell_type": "code",
   "execution_count": 1,
   "id": "6f311235-b45f-4778-872e-4b12881a6cc6",
   "metadata": {},
   "outputs": [
    {
     "data": {
      "text/plain": [
       "'\\n **Question 1**\\nGiven an integer array nums of 2n integers, group these integers into n pairs (a1, b1), (a2, b2),..., (an, bn) such that the sum of min(ai, bi) for all i is maximized. Return the maximized sum.\\n\\n**Example 1:**\\nInput: nums = [1,4,3,2]\\nOutput: 4\\n\\n**Explanation:** All possible pairings (ignoring the ordering of elements) are:\\n\\n1. (1, 4), (2, 3) -> min(1, 4) + min(2, 3) = 1 + 2 = 3\\n2. (1, 3), (2, 4) -> min(1, 3) + min(2, 4) = 1 + 2 = 3\\n3. (1, 2), (3, 4) -> min(1, 2) + min(3, 4) = 1 + 3 = 4\\nSo the maximum possible sum is 4\\n'"
      ]
     },
     "execution_count": 1,
     "metadata": {},
     "output_type": "execute_result"
    }
   ],
   "source": [
    "\"\"\"\n",
    " **Question 1**\n",
    "Given an integer array nums of 2n integers, group these integers into n pairs (a1, b1), (a2, b2),..., (an, bn) such that the sum of min(ai, bi) for all i is maximized. Return the maximized sum.\n",
    "\n",
    "**Example 1:**\n",
    "Input: nums = [1,4,3,2]\n",
    "Output: 4\n",
    "\n",
    "**Explanation:** All possible pairings (ignoring the ordering of elements) are:\n",
    "\n",
    "1. (1, 4), (2, 3) -> min(1, 4) + min(2, 3) = 1 + 2 = 3\n",
    "2. (1, 3), (2, 4) -> min(1, 3) + min(2, 4) = 1 + 2 = 3\n",
    "3. (1, 2), (3, 4) -> min(1, 2) + min(3, 4) = 1 + 3 = 4\n",
    "So the maximum possible sum is 4\n",
    "\"\"\""
   ]
  },
  {
   "cell_type": "code",
   "execution_count": 2,
   "id": "e6dc1c51-b1ba-46fe-92c2-cfde5c1ed8c4",
   "metadata": {},
   "outputs": [],
   "source": [
    "def array_pair_sum(nums):\n",
    "    nums.sort()  # Sort the array in ascending order\n",
    "    max_sum = 0\n",
    "    for i in range(0, len(nums), 2):\n",
    "        max_sum += min(nums[i], nums[i+1])\n",
    "    return max_sum\n"
   ]
  },
  {
   "cell_type": "code",
   "execution_count": 3,
   "id": "1ce10c4c-2068-44c6-88d1-3df0f7bf893d",
   "metadata": {},
   "outputs": [
    {
     "name": "stdout",
     "output_type": "stream",
     "text": [
      "4\n"
     ]
    }
   ],
   "source": [
    "nums = [1, 4, 3, 2]\n",
    "print(array_pair_sum(nums))  # Output: 4\n"
   ]
  },
  {
   "cell_type": "code",
   "execution_count": 4,
   "id": "2e126868-5c48-466f-952f-12e59c43c588",
   "metadata": {},
   "outputs": [
    {
     "data": {
      "text/plain": [
       "\"\\nQuestion 2\\nAlice has n candies, where the ith candy is of type candyType[i]. Alice noticed that she started to gain weight, so she visited a doctor. \\n\\nThe doctor advised Alice to only eat n / 2 of the candies she has (n is always even). Alice likes her candies very much, and she wants to eat the maximum number of different types of candies while still following the doctor's advice. \\n\\nGiven the integer array candyType of length n, return the maximum number of different types of candies she can eat if she only eats n / 2 of them.\\n\\nExample 1:\\nInput: candyType = [1,1,2,2,3,3]\\nOutput: 3\\n\\nExplanation: Alice can only eat 6 / 2 = 3 candies. Since there are only 3 types, she can eat one of each type.\\n\""
      ]
     },
     "execution_count": 4,
     "metadata": {},
     "output_type": "execute_result"
    }
   ],
   "source": [
    "\"\"\"\n",
    "Question 2\n",
    "Alice has n candies, where the ith candy is of type candyType[i]. Alice noticed that she started to gain weight, so she visited a doctor. \n",
    "\n",
    "The doctor advised Alice to only eat n / 2 of the candies she has (n is always even). Alice likes her candies very much, and she wants to eat the maximum number of different types of candies while still following the doctor's advice. \n",
    "\n",
    "Given the integer array candyType of length n, return the maximum number of different types of candies she can eat if she only eats n / 2 of them.\n",
    "\n",
    "Example 1:\n",
    "Input: candyType = [1,1,2,2,3,3]\n",
    "Output: 3\n",
    "\n",
    "Explanation: Alice can only eat 6 / 2 = 3 candies. Since there are only 3 types, she can eat one of each type.\n",
    "\"\"\""
   ]
  },
  {
   "cell_type": "code",
   "execution_count": 5,
   "id": "db5593ad-527e-4dcd-a837-989477f3e026",
   "metadata": {},
   "outputs": [],
   "source": [
    "def max_candies(candyType):\n",
    "    max_candies = len(candyType) // 2\n",
    "    unique_candies = set(candyType)\n",
    "    return min(len(unique_candies), max_candies)\n"
   ]
  },
  {
   "cell_type": "code",
   "execution_count": 6,
   "id": "3e42ca64-3449-4672-ad60-b7624d53beb9",
   "metadata": {},
   "outputs": [
    {
     "name": "stdout",
     "output_type": "stream",
     "text": [
      "3\n"
     ]
    }
   ],
   "source": [
    "candyType = [1, 1, 2, 2, 3, 3]\n",
    "print(max_candies(candyType))  # Output: 3\n"
   ]
  },
  {
   "cell_type": "code",
   "execution_count": 7,
   "id": "5a074b50-4603-4fcd-8258-34bfc54d3916",
   "metadata": {},
   "outputs": [
    {
     "data": {
      "text/plain": [
       "'\\nQuestion 3\\nWe define a harmonious array as an array where the difference between its maximum value\\nand its minimum value is exactly 1.\\n\\nGiven an integer array nums, return the length of its longest harmonious subsequence\\namong all its possible subsequences.\\n\\nA subsequence of an array is a sequence that can be derived from the array by deleting some or no elements without changing the order of the remaining elements.\\n\\nExample 1:\\nInput: nums = [1,3,2,2,5,2,3,7]\\nOutput: 5\\n\\nExplanation: The longest harmonious subsequence is [3,2,2,2,3].\\n'"
      ]
     },
     "execution_count": 7,
     "metadata": {},
     "output_type": "execute_result"
    }
   ],
   "source": [
    "\"\"\"\n",
    "Question 3\n",
    "We define a harmonious array as an array where the difference between its maximum value\n",
    "and its minimum value is exactly 1.\n",
    "\n",
    "Given an integer array nums, return the length of its longest harmonious subsequence\n",
    "among all its possible subsequences.\n",
    "\n",
    "A subsequence of an array is a sequence that can be derived from the array by deleting some or no elements without changing the order of the remaining elements.\n",
    "\n",
    "Example 1:\n",
    "Input: nums = [1,3,2,2,5,2,3,7]\n",
    "Output: 5\n",
    "\n",
    "Explanation: The longest harmonious subsequence is [3,2,2,2,3].\n",
    "\"\"\""
   ]
  },
  {
   "cell_type": "code",
   "execution_count": 8,
   "id": "41c600d1-ae7c-403f-87f0-b8c4721456cf",
   "metadata": {},
   "outputs": [],
   "source": [
    "def findLHS(nums):\n",
    "    num_counts = {}\n",
    "    for num in nums:\n",
    "        num_counts[num] = num_counts.get(num, 0) + 1\n",
    "\n",
    "    max_length = 0\n",
    "    for num in num_counts:\n",
    "        if num + 1 in num_counts:\n",
    "            length = num_counts[num] + num_counts[num + 1]\n",
    "            max_length = max(max_length, length)\n",
    "\n",
    "    return max_length\n"
   ]
  },
  {
   "cell_type": "code",
   "execution_count": 9,
   "id": "78c1f077-8452-465f-857e-0f1850215724",
   "metadata": {},
   "outputs": [
    {
     "name": "stdout",
     "output_type": "stream",
     "text": [
      "5\n"
     ]
    }
   ],
   "source": [
    "nums = [1, 3, 2, 2, 5, 2, 3, 7]\n",
    "print(findLHS(nums))  # Output: 5\n"
   ]
  },
  {
   "cell_type": "code",
   "execution_count": 10,
   "id": "f040276c-0a21-4981-9200-ea5d19f8bbf9",
   "metadata": {},
   "outputs": [
    {
     "data": {
      "text/plain": [
       "\"\\nQuestion 4\\nYou have a long flowerbed in which some of the plots are planted, and some are not.\\nHowever, flowers cannot be planted in adjacent plots.\\nGiven an integer array flowerbed containing 0's and 1's, where 0 means empty and 1 means not empty, and an integer n, return true if n new flowers can be planted in the flowerbed without violating the no-adjacent-flowers rule and false otherwise.\\n\\nExample 1:\\nInput: flowerbed = [1,0,0,0,1], n = 1\\nOutput: true\\n\""
      ]
     },
     "execution_count": 10,
     "metadata": {},
     "output_type": "execute_result"
    }
   ],
   "source": [
    "\"\"\"\n",
    "Question 4\n",
    "You have a long flowerbed in which some of the plots are planted, and some are not.\n",
    "However, flowers cannot be planted in adjacent plots.\n",
    "Given an integer array flowerbed containing 0's and 1's, where 0 means empty and 1 means not empty, and an integer n, return true if n new flowers can be planted in the flowerbed without violating the no-adjacent-flowers rule and false otherwise.\n",
    "\n",
    "Example 1:\n",
    "Input: flowerbed = [1,0,0,0,1], n = 1\n",
    "Output: true\n",
    "\"\"\""
   ]
  },
  {
   "cell_type": "code",
   "execution_count": 11,
   "id": "ee4d9620-94aa-4fea-bc21-defbc5e3d7cf",
   "metadata": {},
   "outputs": [],
   "source": [
    "def canPlaceFlowers(flowerbed, n):\n",
    "    count = 0\n",
    "    i = 0\n",
    "    while i < len(flowerbed):\n",
    "        if flowerbed[i] == 0 and (i == 0 or flowerbed[i - 1] == 0) and (i == len(flowerbed) - 1 or flowerbed[i + 1] == 0):\n",
    "            flowerbed[i] = 1\n",
    "            count += 1\n",
    "        i += 1\n",
    "    return count >= n\n"
   ]
  },
  {
   "cell_type": "code",
   "execution_count": 12,
   "id": "9e1b2415-8295-471c-a784-1724aec516d9",
   "metadata": {},
   "outputs": [
    {
     "name": "stdout",
     "output_type": "stream",
     "text": [
      "True\n"
     ]
    }
   ],
   "source": [
    "flowerbed = [1, 0, 0, 0, 1]\n",
    "n = 1\n",
    "print(canPlaceFlowers(flowerbed, n))  # Output: True\n"
   ]
  },
  {
   "cell_type": "code",
   "execution_count": 13,
   "id": "00c161ce-b63f-491c-be7f-a5e054f1a210",
   "metadata": {},
   "outputs": [
    {
     "data": {
      "text/plain": [
       "'\\nQuestion 5\\nGiven an integer array nums, find three numbers whose product is maximum and return the maximum product.\\n\\nExample 1:\\nInput: nums = [1,2,3]\\nOutput: 6\\n'"
      ]
     },
     "execution_count": 13,
     "metadata": {},
     "output_type": "execute_result"
    }
   ],
   "source": [
    "\"\"\"\n",
    "Question 5\n",
    "Given an integer array nums, find three numbers whose product is maximum and return the maximum product.\n",
    "\n",
    "Example 1:\n",
    "Input: nums = [1,2,3]\n",
    "Output: 6\n",
    "\"\"\""
   ]
  },
  {
   "cell_type": "code",
   "execution_count": 14,
   "id": "23b52241-0825-4dae-a0fd-ea640a644741",
   "metadata": {},
   "outputs": [],
   "source": [
    "def maximumProduct(nums):\n",
    "    nums.sort()\n",
    "    product1 = nums[-1] * nums[-2] * nums[-3]\n",
    "    product2 = nums[0] * nums[1] * nums[-1]\n",
    "    return max(product1, product2)\n"
   ]
  },
  {
   "cell_type": "code",
   "execution_count": 15,
   "id": "f517be08-1dee-4f76-b467-754e665befa6",
   "metadata": {},
   "outputs": [
    {
     "name": "stdout",
     "output_type": "stream",
     "text": [
      "6\n"
     ]
    }
   ],
   "source": [
    "nums = [1, 2, 3]\n",
    "print(maximumProduct(nums))  # Output: 6\n"
   ]
  },
  {
   "cell_type": "code",
   "execution_count": 16,
   "id": "8cdfc033-a4f7-449d-85eb-7d20da0536b0",
   "metadata": {},
   "outputs": [
    {
     "data": {
      "text/plain": [
       "'\\nQuestion 6\\nGiven an array of integers nums which is sorted in ascending order, and an integer target,\\nwrite a function to search target in nums. If target exists, then return its index. Otherwise,\\nreturn -1.\\n\\nYou must write an algorithm with O(log n) runtime complexity.\\n\\nInput: nums = [-1,0,3,5,9,12], target = 9\\nOutput: 4\\n\\nExplanation: 9 exists in nums and its index is 4\\n'"
      ]
     },
     "execution_count": 16,
     "metadata": {},
     "output_type": "execute_result"
    }
   ],
   "source": [
    "\"\"\"\n",
    "Question 6\n",
    "Given an array of integers nums which is sorted in ascending order, and an integer target,\n",
    "write a function to search target in nums. If target exists, then return its index. Otherwise,\n",
    "return -1.\n",
    "\n",
    "You must write an algorithm with O(log n) runtime complexity.\n",
    "\n",
    "Input: nums = [-1,0,3,5,9,12], target = 9\n",
    "Output: 4\n",
    "\n",
    "Explanation: 9 exists in nums and its index is 4\n",
    "\"\"\""
   ]
  },
  {
   "cell_type": "code",
   "execution_count": 17,
   "id": "12f61647-143f-4ba7-8a71-0d97041ad4c6",
   "metadata": {},
   "outputs": [],
   "source": [
    "def search(nums, target):\n",
    "    left = 0\n",
    "    right = len(nums) - 1\n",
    "\n",
    "    while left <= right:\n",
    "        mid = (left + right) // 2\n",
    "        if nums[mid] == target:\n",
    "            return mid\n",
    "        elif nums[mid] < target:\n",
    "            left = mid + 1\n",
    "        else:\n",
    "            right = mid - 1\n",
    "\n",
    "    return -1\n"
   ]
  },
  {
   "cell_type": "code",
   "execution_count": 18,
   "id": "c4a056b5-b761-487f-8f33-3e0ddd948386",
   "metadata": {},
   "outputs": [
    {
     "name": "stdout",
     "output_type": "stream",
     "text": [
      "4\n"
     ]
    }
   ],
   "source": [
    "nums = [-1, 0, 3, 5, 9, 12]\n",
    "target = 9\n",
    "print(search(nums, target))  # Output: 4\n"
   ]
  },
  {
   "cell_type": "code",
   "execution_count": 19,
   "id": "bdc252cc-068a-4837-a707-2db8427bcb58",
   "metadata": {},
   "outputs": [
    {
     "data": {
      "text/plain": [
       "'\\nQuestion 7\\nAn array is monotonic if it is either monotone increasing or monotone decreasing.\\n\\nAn array nums is monotone increasing if for all i <= j, nums[i] <= nums[j]. An array nums is\\nmonotone decreasing if for all i <= j, nums[i] >= nums[j].\\n\\nGiven an integer array nums, return true if the given array is monotonic, or false otherwise.\\n\\nExample 1:\\nInput: nums = [1,2,2,3]\\nOutput: true\\n'"
      ]
     },
     "execution_count": 19,
     "metadata": {},
     "output_type": "execute_result"
    }
   ],
   "source": [
    "\"\"\"\n",
    "Question 7\n",
    "An array is monotonic if it is either monotone increasing or monotone decreasing.\n",
    "\n",
    "An array nums is monotone increasing if for all i <= j, nums[i] <= nums[j]. An array nums is\n",
    "monotone decreasing if for all i <= j, nums[i] >= nums[j].\n",
    "\n",
    "Given an integer array nums, return true if the given array is monotonic, or false otherwise.\n",
    "\n",
    "Example 1:\n",
    "Input: nums = [1,2,2,3]\n",
    "Output: true\n",
    "\"\"\"\n"
   ]
  },
  {
   "cell_type": "code",
   "execution_count": 20,
   "id": "84ab0c76-69fe-42d8-983d-8762aafa4ad6",
   "metadata": {},
   "outputs": [],
   "source": [
    "def isMonotonic(nums):\n",
    "    isIncreasing = True\n",
    "    isDecreasing = True\n",
    "\n",
    "    for i in range(1, len(nums)):\n",
    "        if nums[i] > nums[i - 1]:\n",
    "            isIncreasing = False\n",
    "        if nums[i] < nums[i - 1]:\n",
    "            isDecreasing = False\n",
    "\n",
    "    return isIncreasing or isDecreasing\n"
   ]
  },
  {
   "cell_type": "code",
   "execution_count": 21,
   "id": "8e52a5ac-4717-4f20-8c09-4694d596a753",
   "metadata": {},
   "outputs": [
    {
     "name": "stdout",
     "output_type": "stream",
     "text": [
      "True\n"
     ]
    }
   ],
   "source": [
    "nums = [1, 2, 2, 3]\n",
    "print(isMonotonic(nums))  # Output: True\n"
   ]
  },
  {
   "cell_type": "code",
   "execution_count": 27,
   "id": "85646feb-f88e-41db-805a-d76c87f1a277",
   "metadata": {},
   "outputs": [
    {
     "data": {
      "text/plain": [
       "'\\nQuestion 8\\nYou are given an integer array nums and an integer k.\\n\\nIn one operation, you can choose any index i where 0 <= i < nums.length and change nums[i] to nums[i] + x where x is an integer from the range [-k, k]. You can apply this operation at most once for each index i.\\n\\nThe score of nums is the difference between the maximum and minimum elements in nums.\\n\\nReturn the minimum score of nums after applying the mentioned operation at most once for each index in it.\\n\\nExample 1:\\nInput: nums = [1], k = 0\\nOutput: 0\\n\\nExplanation: The score is max(nums) - min(nums) = 1 - 1 = 0.\\n'"
      ]
     },
     "execution_count": 27,
     "metadata": {},
     "output_type": "execute_result"
    }
   ],
   "source": [
    "\"\"\"\n",
    "Question 8\n",
    "You are given an integer array nums and an integer k.\n",
    "\n",
    "In one operation, you can choose any index i where 0 <= i < nums.length and change nums[i] to nums[i] + x where x is an integer from the range [-k, k]. You can apply this operation at most once for each index i.\n",
    "\n",
    "The score of nums is the difference between the maximum and minimum elements in nums.\n",
    "\n",
    "Return the minimum score of nums after applying the mentioned operation at most once for each index in it.\n",
    "\n",
    "Example 1:\n",
    "Input: nums = [1], k = 0\n",
    "Output: 0\n",
    "\n",
    "Explanation: The score is max(nums) - min(nums) = 1 - 1 = 0.\n",
    "\"\"\""
   ]
  },
  {
   "cell_type": "code",
   "execution_count": 28,
   "id": "ff99e176-6d2b-4e3c-8aa9-15f3460b348e",
   "metadata": {},
   "outputs": [],
   "source": [
    "def minimumScore(nums, k):\n",
    "    minimum = min(nums)\n",
    "    maximum = max(nums)\n",
    "    minScore = maximum - minimum\n",
    "\n",
    "    for num in nums:\n",
    "        potentialMinimum = min(num - k, minimum)\n",
    "        potentialMaximum = max(num + k, maximum)\n",
    "        minScore = min(minScore, potentialMaximum - potentialMinimum)\n",
    "\n",
    "    return minScore\n"
   ]
  },
  {
   "cell_type": "code",
   "execution_count": 29,
   "id": "a9500834-e663-4c79-ab57-ddbadc8b4d52",
   "metadata": {},
   "outputs": [
    {
     "name": "stdout",
     "output_type": "stream",
     "text": [
      "0\n"
     ]
    }
   ],
   "source": [
    "nums = [1]\n",
    "k = 0\n",
    "print(minimumScore(nums, k))  # Output: 0\n"
   ]
  },
  {
   "cell_type": "code",
   "execution_count": null,
   "id": "75bf17a3-9bea-4d48-8572-fdac9edee53d",
   "metadata": {},
   "outputs": [],
   "source": []
  },
  {
   "cell_type": "code",
   "execution_count": null,
   "id": "af931817-6092-4c35-b072-339d0df8627c",
   "metadata": {},
   "outputs": [],
   "source": []
  },
  {
   "cell_type": "code",
   "execution_count": null,
   "id": "8c1fee5d-abf2-42a3-9a91-bd394b26b06a",
   "metadata": {},
   "outputs": [],
   "source": []
  },
  {
   "cell_type": "code",
   "execution_count": null,
   "id": "f98f348b-f1ba-4314-b8e9-f5527ed25b61",
   "metadata": {},
   "outputs": [],
   "source": []
  }
 ],
 "metadata": {
  "kernelspec": {
   "display_name": "Python 3 (ipykernel)",
   "language": "python",
   "name": "python3"
  },
  "language_info": {
   "codemirror_mode": {
    "name": "ipython",
    "version": 3
   },
   "file_extension": ".py",
   "mimetype": "text/x-python",
   "name": "python",
   "nbconvert_exporter": "python",
   "pygments_lexer": "ipython3",
   "version": "3.10.6"
  }
 },
 "nbformat": 4,
 "nbformat_minor": 5
}
